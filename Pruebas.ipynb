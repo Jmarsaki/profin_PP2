{
  "nbformat": 4,
  "nbformat_minor": 0,
  "metadata": {
    "colab": {
      "provenance": [],
      "authorship_tag": "ABX9TyNEdWU7UHqlP+xAbBfBfBOg",
      "include_colab_link": true
    },
    "kernelspec": {
      "name": "python3",
      "display_name": "Python 3"
    },
    "language_info": {
      "name": "python"
    }
  },
  "cells": [
    {
      "cell_type": "markdown",
      "metadata": {
        "id": "view-in-github",
        "colab_type": "text"
      },
      "source": [
        "<a href=\"https://colab.research.google.com/github/Jmarsaki/profin_PP2/blob/main/Pruebas.ipynb\" target=\"_parent\"><img src=\"https://colab.research.google.com/assets/colab-badge.svg\" alt=\"Open In Colab\"/></a>"
      ]
    },
    {
      "cell_type": "markdown",
      "source": [
        "##Pruebas"
      ],
      "metadata": {
        "id": "6UFnzSFRa-qY"
      }
    },
    {
      "cell_type": "code",
      "execution_count": null,
      "metadata": {
        "id": "frYN_kFtXaWi"
      },
      "outputs": [],
      "source": [
        "# División de los datos en conjuntos de entrenamiento y prueba\n",
        "X_train, X_test, y_train, y_test = train_test_split(X, y, test_size=0.2, random_state=42)\n",
        "\n",
        "# Crear y entrenar el modelo de regresión lineal\n",
        "model = LinearRegression()\n",
        "model.fit(X_train, y_train)\n",
        "\n",
        "# Realizar predicciones sobre los datos de prueba\n",
        "y_pred = model.predict(X_test)"
      ]
    },
    {
      "cell_type": "code",
      "execution_count": null,
      "metadata": {
        "colab": {
          "base_uri": "https://localhost:8080/"
        },
        "id": "eEplJ60rHd7q",
        "outputId": "55c81ba8-80c4-48ac-c982-5f01d38cce62"
      },
      "outputs": [
        {
          "output_type": "stream",
          "name": "stdout",
          "text": [
            "Predicción para el año 2022 : [[2403161.9540813]]\n",
            "Predicción para el año 2023 : [[2483925.24059489]]\n",
            "Predicción para el año 2024 : [[2564688.52710849]]\n",
            "Predicción para el año 2025 : [[2645451.81362209]]\n",
            "Predicción para el año 2026 : [[2726215.10013568]]\n",
            "Predicción para el año 2027 : [[2806978.38664928]]\n",
            "Predicción para el año 2028 : [[2887741.67316288]]\n",
            "Predicción para el año 2029 : [[2968504.95967647]]\n",
            "Predicción para el año 2030 : [[3049268.24619007]]\n"
          ]
        }
      ],
      "source": [
        "# Realizar una predicción para un año futuro\n",
        "future_year = 2022\n",
        "future_prediction = model.predict([[future_year]])\n",
        "print(\"Predicción para el año\", future_year, \":\", future_prediction)\n",
        "\n",
        "future_year = 2023\n",
        "future_prediction = model.predict([[future_year]])\n",
        "print(\"Predicción para el año\", future_year, \":\", future_prediction)\n",
        "\n",
        "future_year = 2024\n",
        "future_prediction = model.predict([[future_year]])\n",
        "print(\"Predicción para el año\", future_year, \":\", future_prediction)\n",
        "\n",
        "future_year = 2025\n",
        "future_prediction = model.predict([[future_year]])\n",
        "print(\"Predicción para el año\", future_year, \":\", future_prediction)\n",
        "\n",
        "future_year = 2026\n",
        "future_prediction = model.predict([[future_year]])\n",
        "print(\"Predicción para el año\", future_year, \":\", future_prediction)\n",
        "\n",
        "future_year = 2027\n",
        "future_prediction = model.predict([[future_year]])\n",
        "print(\"Predicción para el año\", future_year, \":\", future_prediction)\n",
        "\n",
        "future_year = 2028\n",
        "future_prediction = model.predict([[future_year]])\n",
        "print(\"Predicción para el año\", future_year, \":\", future_prediction)\n",
        "\n",
        "future_year = 2029\n",
        "future_prediction = model.predict([[future_year]])\n",
        "print(\"Predicción para el año\", future_year, \":\", future_prediction)\n",
        "\n",
        "future_year = 2030\n",
        "future_prediction = model.predict([[future_year]])\n",
        "print(\"Predicción para el año\", future_year, \":\", future_prediction)\n",
        "\n",
        "# Realizar predicciones sobre los datos de prueba\n",
        "y_pred = model.predict(X_test)"
      ]
    },
    {
      "cell_type": "code",
      "execution_count": null,
      "metadata": {
        "colab": {
          "base_uri": "https://localhost:8080/"
        },
        "id": "15x4Xfsjmb8B",
        "outputId": "b16c0164-d18e-4309-df1d-319bef52c614"
      },
      "outputs": [
        {
          "output_type": "stream",
          "name": "stdout",
          "text": [
            "Error Cuadrático Medio (MSE): 12725098826790.92\n"
          ]
        }
      ],
      "source": [
        "# Evaluar el modelo utilizando el error cuadrático medio (MSE)\n",
        "mse = mean_squared_error(y_test, y_pred)\n",
        "print(\"Error Cuadrático Medio (MSE):\", mse)"
      ]
    },
    {
      "cell_type": "code",
      "execution_count": null,
      "metadata": {
        "colab": {
          "base_uri": "https://localhost:8080/"
        },
        "id": "YcUkJlDitmhH",
        "outputId": "3d262d9e-cf2d-49f5-d564-e147f2f15b98"
      },
      "outputs": [
        {
          "output_type": "stream",
          "name": "stdout",
          "text": [
            "Predicción para el año 2022 : ['R']\n",
            "Predicción para el año 2023 : ['R']\n",
            "Predicción para el año 2024 : ['R']\n",
            "Predicción para el año 2025 : ['R']\n",
            "Predicción para el año 2026 : ['R']\n",
            "Predicción para el año 2027 : ['R']\n",
            "Predicción para el año 2028 : ['R']\n",
            "Predicción para el año 2029 : ['R']\n",
            "Predicción para el año 2030 : ['R']\n"
          ]
        }
      ],
      "source": [
        "# Preprocesamiento de los datos\n",
        "X = df['year'].values.reshape(-1, 1)  # Año como característica\n",
        "y = df['flag'].values.reshape(-1, 1)  # Generación como variable objetivo\n",
        "\n",
        "# División de los datos en conjuntos de entrenamiento y prueba\n",
        "X_train, X_test, y_train, y_test = train_test_split(X, y, test_size=0.2, random_state=42)\n",
        "\n",
        "# Crear y entrenar el modelo de regresión lineal\n",
        "model = LogisticRegression()\n",
        "model.fit(X_train, y_train)\n",
        "\n",
        "# Realizar predicciones sobre los datos de prueba\n",
        "y_pred = model.predict(X_test)\n",
        "\n",
        "# Realizar una predicción para 3 años futuros\n",
        "future_year = 2022\n",
        "future_prediction = model.predict([[future_year]])\n",
        "print(\"Predicción para el año\", future_year, \":\", future_prediction)\n",
        "\n",
        "future_year = 2023\n",
        "future_prediction = model.predict([[future_year]])\n",
        "print(\"Predicción para el año\", future_year, \":\", future_prediction)\n",
        "\n",
        "future_year = 2024\n",
        "future_prediction = model.predict([[future_year]])\n",
        "print(\"Predicción para el año\", future_year, \":\", future_prediction)\n",
        "\n",
        "future_year = 2025\n",
        "future_prediction = model.predict([[future_year]])\n",
        "print(\"Predicción para el año\", future_year, \":\", future_prediction)\n",
        "\n",
        "future_year = 2026\n",
        "future_prediction = model.predict([[future_year]])\n",
        "print(\"Predicción para el año\", future_year, \":\", future_prediction)\n",
        "\n",
        "future_year = 2027\n",
        "future_prediction = model.predict([[future_year]])\n",
        "print(\"Predicción para el año\", future_year, \":\", future_prediction)\n",
        "\n",
        "future_year = 2028\n",
        "future_prediction = model.predict([[future_year]])\n",
        "print(\"Predicción para el año\", future_year, \":\", future_prediction)\n",
        "\n",
        "future_year = 2029\n",
        "future_prediction = model.predict([[future_year]])\n",
        "print(\"Predicción para el año\", future_year, \":\", future_prediction)\n",
        "\n",
        "future_year = 2030\n",
        "future_prediction = model.predict([[future_year]])\n",
        "print(\"Predicción para el año\", future_year, \":\", future_prediction)"
      ]
    },
    {
      "cell_type": "code",
      "source": [
        "# Confusion Matrix\n",
        "from sklearn.metrics import confusion_matrix\n",
        "confusion_matrix(y_test, y_pred)"
      ],
      "metadata": {
        "id": "OE9O10zOZ_V-"
      },
      "execution_count": null,
      "outputs": []
    },
    {
      "cell_type": "code",
      "source": [
        "# Accuracy\n",
        "from sklearn.metrics import accuracy_score\n",
        "accuracy_score(y_test, y_pred)"
      ],
      "metadata": {
        "id": "sC1OhWeaaDDc"
      },
      "execution_count": null,
      "outputs": []
    },
    {
      "cell_type": "code",
      "source": [
        "# Recall\n",
        "from sklearn.metrics import recall_score\n",
        "recall_score(y_test, y_pred, average=None)"
      ],
      "metadata": {
        "id": "uBvDhcTpaKmN"
      },
      "execution_count": null,
      "outputs": []
    },
    {
      "cell_type": "code",
      "source": [
        "# Precision\n",
        "from sklearn.metrics import precision_score\n",
        "precision_score(y_test, y_pred, average=None)"
      ],
      "metadata": {
        "id": "_o5xFNamaPip"
      },
      "execution_count": null,
      "outputs": []
    },
    {
      "cell_type": "code",
      "source": [
        "# Modelización con árbol de desición clasificador\n",
        "# Preprocesamiento de los datos \n",
        "X = df['year'].values.reshape(-1, 1)  # Año como característica\n",
        "y = df['resource'].values  # Crecimiento como variable objetivo\n",
        "\n",
        "# Crear y entrenar el modelo de árbol de decisión clasificador\n",
        "model = DecisionTreeClassifier(random_state=42)\n",
        "model.fit(X, y)\n",
        "\n",
        "# Visualizar el árbol de decisión\n",
        "fig, ax = plt.subplots(figsize=(12, 8))\n",
        "tree.plot_tree(model, feature_names=['year'], class_names=['resource'], filled=True, ax=ax)\n",
        "plt.title('Árbol de Decisión para el Crecimiento de Energías Renovables en Nueva Zelanda')\n",
        "plt.show()"
      ],
      "metadata": {
        "id": "Ml06RT-8acpe"
      },
      "execution_count": null,
      "outputs": []
    },
    {
      "cell_type": "code",
      "source": [
        "# Preprocesamiento de los datos\n",
        "X = df['year'].values.reshape(-1, 1)  # Año como característica\n",
        "y = df['flag'].values.reshape(-1, 1)  # Crecimiento como variable objetivo\n",
        "\n",
        "# Crear y entrenar el modelo de árbol de decisión clasificador\n",
        "model = DecisionTreeClassifier(random_state=42)\n",
        "model.fit(X, y)\n",
        "\n",
        "# Generar valores de predicción para todos los años desde 2007 hasta 2021\n",
        "X_future = [[year] for year in range(2007, 2022)]\n",
        "y_pred = model.predict(X_future)"
      ],
      "metadata": {
        "id": "APWgVE4Xa4nn"
      },
      "execution_count": null,
      "outputs": []
    }
  ]
}