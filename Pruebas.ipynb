{
  "nbformat": 4,
  "nbformat_minor": 0,
  "metadata": {
    "colab": {
      "provenance": [],
      "authorship_tag": "ABX9TyNgxOoVMFkryI3ruw4W/6e9",
      "include_colab_link": true
    },
    "kernelspec": {
      "name": "python3",
      "display_name": "Python 3"
    },
    "language_info": {
      "name": "python"
    }
  },
  "cells": [
    {
      "cell_type": "markdown",
      "metadata": {
        "id": "view-in-github",
        "colab_type": "text"
      },
      "source": [
        "<a href=\"https://colab.research.google.com/github/Jmarsaki/profin_PP2/blob/main/Pruebas.ipynb\" target=\"_parent\"><img src=\"https://colab.research.google.com/assets/colab-badge.svg\" alt=\"Open In Colab\"/></a>"
      ]
    },
    {
      "cell_type": "markdown",
      "source": [
        "##Pruebas"
      ],
      "metadata": {
        "id": "6UFnzSFRa-qY"
      }
    },
    {
      "cell_type": "code",
      "execution_count": null,
      "metadata": {
        "id": "frYN_kFtXaWi"
      },
      "outputs": [],
      "source": [
        "# División de los datos en conjuntos de entrenamiento y prueba\n",
        "X_train, X_test, y_train, y_test = train_test_split(X, y, test_size=0.2, random_state=42)\n",
        "\n",
        "# Crear y entrenar el modelo de regresión lineal\n",
        "model = LinearRegression()\n",
        "model.fit(X_train, y_train)\n",
        "\n",
        "# Realizar predicciones sobre los datos de prueba\n",
        "y_pred = model.predict(X_test)"
      ]
    },
    {
      "cell_type": "code",
      "execution_count": null,
      "metadata": {
        "colab": {
          "base_uri": "https://localhost:8080/"
        },
        "id": "eEplJ60rHd7q",
        "outputId": "55c81ba8-80c4-48ac-c982-5f01d38cce62"
      },
      "outputs": [
        {
          "output_type": "stream",
          "name": "stdout",
          "text": [
            "Predicción para el año 2022 : [[2403161.9540813]]\n",
            "Predicción para el año 2023 : [[2483925.24059489]]\n",
            "Predicción para el año 2024 : [[2564688.52710849]]\n",
            "Predicción para el año 2025 : [[2645451.81362209]]\n",
            "Predicción para el año 2026 : [[2726215.10013568]]\n",
            "Predicción para el año 2027 : [[2806978.38664928]]\n",
            "Predicción para el año 2028 : [[2887741.67316288]]\n",
            "Predicción para el año 2029 : [[2968504.95967647]]\n",
            "Predicción para el año 2030 : [[3049268.24619007]]\n"
          ]
        }
      ],
      "source": [
        "# Realizar una predicción para un año futuro\n",
        "future_year = 2022\n",
        "future_prediction = model.predict([[future_year]])\n",
        "print(\"Predicción para el año\", future_year, \":\", future_prediction)\n",
        "\n",
        "future_year = 2023\n",
        "future_prediction = model.predict([[future_year]])\n",
        "print(\"Predicción para el año\", future_year, \":\", future_prediction)\n",
        "\n",
        "future_year = 2024\n",
        "future_prediction = model.predict([[future_year]])\n",
        "print(\"Predicción para el año\", future_year, \":\", future_prediction)\n",
        "\n",
        "future_year = 2025\n",
        "future_prediction = model.predict([[future_year]])\n",
        "print(\"Predicción para el año\", future_year, \":\", future_prediction)\n",
        "\n",
        "future_year = 2026\n",
        "future_prediction = model.predict([[future_year]])\n",
        "print(\"Predicción para el año\", future_year, \":\", future_prediction)\n",
        "\n",
        "future_year = 2027\n",
        "future_prediction = model.predict([[future_year]])\n",
        "print(\"Predicción para el año\", future_year, \":\", future_prediction)\n",
        "\n",
        "future_year = 2028\n",
        "future_prediction = model.predict([[future_year]])\n",
        "print(\"Predicción para el año\", future_year, \":\", future_prediction)\n",
        "\n",
        "future_year = 2029\n",
        "future_prediction = model.predict([[future_year]])\n",
        "print(\"Predicción para el año\", future_year, \":\", future_prediction)\n",
        "\n",
        "future_year = 2030\n",
        "future_prediction = model.predict([[future_year]])\n",
        "print(\"Predicción para el año\", future_year, \":\", future_prediction)\n",
        "\n",
        "# Realizar predicciones sobre los datos de prueba\n",
        "y_pred = model.predict(X_test)"
      ]
    },
    {
      "cell_type": "code",
      "execution_count": null,
      "metadata": {
        "colab": {
          "base_uri": "https://localhost:8080/"
        },
        "id": "15x4Xfsjmb8B",
        "outputId": "b16c0164-d18e-4309-df1d-319bef52c614"
      },
      "outputs": [
        {
          "output_type": "stream",
          "name": "stdout",
          "text": [
            "Error Cuadrático Medio (MSE): 12725098826790.92\n"
          ]
        }
      ],
      "source": [
        "# Evaluar el modelo utilizando el error cuadrático medio (MSE)\n",
        "mse = mean_squared_error(y_test, y_pred)\n",
        "print(\"Error Cuadrático Medio (MSE):\", mse)"
      ]
    },
    {
      "cell_type": "code",
      "execution_count": null,
      "metadata": {
        "colab": {
          "base_uri": "https://localhost:8080/"
        },
        "id": "YcUkJlDitmhH",
        "outputId": "3d262d9e-cf2d-49f5-d564-e147f2f15b98"
      },
      "outputs": [
        {
          "output_type": "stream",
          "name": "stdout",
          "text": [
            "Predicción para el año 2022 : ['R']\n",
            "Predicción para el año 2023 : ['R']\n",
            "Predicción para el año 2024 : ['R']\n",
            "Predicción para el año 2025 : ['R']\n",
            "Predicción para el año 2026 : ['R']\n",
            "Predicción para el año 2027 : ['R']\n",
            "Predicción para el año 2028 : ['R']\n",
            "Predicción para el año 2029 : ['R']\n",
            "Predicción para el año 2030 : ['R']\n"
          ]
        }
      ],
      "source": [
        "# Preprocesamiento de los datos\n",
        "X = df['year'].values.reshape(-1, 1)  # Año como característica\n",
        "y = df['flag'].values.reshape(-1, 1)  # Generación como variable objetivo\n",
        "\n",
        "# División de los datos en conjuntos de entrenamiento y prueba\n",
        "X_train, X_test, y_train, y_test = train_test_split(X, y, test_size=0.2, random_state=42)\n",
        "\n",
        "# Crear y entrenar el modelo de regresión lineal\n",
        "model = LogisticRegression()\n",
        "model.fit(X_train, y_train)\n",
        "\n",
        "# Realizar predicciones sobre los datos de prueba\n",
        "y_pred = model.predict(X_test)\n",
        "\n",
        "# Realizar una predicción para 3 años futuros\n",
        "future_year = 2022\n",
        "future_prediction = model.predict([[future_year]])\n",
        "print(\"Predicción para el año\", future_year, \":\", future_prediction)\n",
        "\n",
        "future_year = 2023\n",
        "future_prediction = model.predict([[future_year]])\n",
        "print(\"Predicción para el año\", future_year, \":\", future_prediction)\n",
        "\n",
        "future_year = 2024\n",
        "future_prediction = model.predict([[future_year]])\n",
        "print(\"Predicción para el año\", future_year, \":\", future_prediction)\n",
        "\n",
        "future_year = 2025\n",
        "future_prediction = model.predict([[future_year]])\n",
        "print(\"Predicción para el año\", future_year, \":\", future_prediction)\n",
        "\n",
        "future_year = 2026\n",
        "future_prediction = model.predict([[future_year]])\n",
        "print(\"Predicción para el año\", future_year, \":\", future_prediction)\n",
        "\n",
        "future_year = 2027\n",
        "future_prediction = model.predict([[future_year]])\n",
        "print(\"Predicción para el año\", future_year, \":\", future_prediction)\n",
        "\n",
        "future_year = 2028\n",
        "future_prediction = model.predict([[future_year]])\n",
        "print(\"Predicción para el año\", future_year, \":\", future_prediction)\n",
        "\n",
        "future_year = 2029\n",
        "future_prediction = model.predict([[future_year]])\n",
        "print(\"Predicción para el año\", future_year, \":\", future_prediction)\n",
        "\n",
        "future_year = 2030\n",
        "future_prediction = model.predict([[future_year]])\n",
        "print(\"Predicción para el año\", future_year, \":\", future_prediction)"
      ]
    },
    {
      "cell_type": "code",
      "source": [
        "# Confusion Matrix\n",
        "from sklearn.metrics import confusion_matrix\n",
        "confusion_matrix(y_test, y_pred)"
      ],
      "metadata": {
        "id": "OE9O10zOZ_V-"
      },
      "execution_count": null,
      "outputs": []
    },
    {
      "cell_type": "code",
      "source": [
        "# Accuracy\n",
        "from sklearn.metrics import accuracy_score\n",
        "accuracy_score(y_test, y_pred)"
      ],
      "metadata": {
        "id": "sC1OhWeaaDDc"
      },
      "execution_count": null,
      "outputs": []
    },
    {
      "cell_type": "code",
      "source": [
        "# Recall\n",
        "from sklearn.metrics import recall_score\n",
        "recall_score(y_test, y_pred, average=None)"
      ],
      "metadata": {
        "id": "uBvDhcTpaKmN"
      },
      "execution_count": null,
      "outputs": []
    },
    {
      "cell_type": "code",
      "source": [
        "# Precision\n",
        "from sklearn.metrics import precision_score\n",
        "precision_score(y_test, y_pred, average=None)"
      ],
      "metadata": {
        "id": "_o5xFNamaPip"
      },
      "execution_count": null,
      "outputs": []
    },
    {
      "cell_type": "code",
      "source": [
        "# Modelización con árbol de desición clasificador\n",
        "# Preprocesamiento de los datos \n",
        "X = df['year'].values.reshape(-1, 1)  # Año como característica\n",
        "y = df['resource'].values  # Crecimiento como variable objetivo\n",
        "\n",
        "# Crear y entrenar el modelo de árbol de decisión clasificador\n",
        "model = DecisionTreeClassifier(random_state=42)\n",
        "model.fit(X, y)\n",
        "\n",
        "# Visualizar el árbol de decisión\n",
        "fig, ax = plt.subplots(figsize=(12, 8))\n",
        "tree.plot_tree(model, feature_names=['year'], class_names=['resource'], filled=True, ax=ax)\n",
        "plt.title('Árbol de Decisión para el Crecimiento de Energías Renovables en Nueva Zelanda')\n",
        "plt.show()"
      ],
      "metadata": {
        "id": "Ml06RT-8acpe"
      },
      "execution_count": null,
      "outputs": []
    },
    {
      "cell_type": "code",
      "source": [
        "# Preprocesamiento de los datos\n",
        "X = df['year'].values.reshape(-1, 1)  # Año como característica\n",
        "y = df['flag'].values.reshape(-1, 1)  # Crecimiento como variable objetivo\n",
        "\n",
        "# Crear y entrenar el modelo de árbol de decisión clasificador\n",
        "model = DecisionTreeClassifier(random_state=42)\n",
        "model.fit(X, y)\n",
        "\n",
        "# Generar valores de predicción para todos los años desde 2007 hasta 2021\n",
        "X_future = [[year] for year in range(2007, 2022)]\n",
        "y_pred = model.predict(X_future)"
      ],
      "metadata": {
        "id": "APWgVE4Xa4nn"
      },
      "execution_count": null,
      "outputs": []
    },
    {
      "cell_type": "markdown",
      "source": [
        "##Ejecución de matriz FODA"
      ],
      "metadata": {
        "id": "8Uu9enbRFHU4"
      }
    },
    {
      "cell_type": "code",
      "execution_count": null,
      "metadata": {
        "colab": {
          "base_uri": "https://localhost:8080/",
          "height": 834
        },
        "id": "8xoIfe2gjDqn",
        "outputId": "96b0405a-9e10-41a9-a23b-1890907716a1"
      },
      "outputs": [
        {
          "name": "stdout",
          "output_type": "stream",
          "text": [
            "                                         Fortalezas  \\\n",
            "F1                       promoción de la innovación   \n",
            "F2        Valor del conjunto de ventajas reconocido   \n",
            "F3  Buenas relaciones con las compañías proveedoras   \n",
            "\n",
            "                            Debilidades                         Oportunidades  \\\n",
            "F1  poca experiencia del equipo experto               Crecimiento del mercado   \n",
            "F2           Altos costos de producción  Tendencia hacia productos ecológicos   \n",
            "F3      calidad de productos no probada               Expansión internacional   \n",
            "\n",
            "                                             Amenazas  \n",
            "F1                                 Competencia fuerte  \n",
            "F2  Resistenia a cambios en regulaciones gubername...  \n",
            "F3         Cambio de preferencias de los consumidores  \n"
          ]
        },
        {
          "data": {
            "image/png": "[encoded data removed]",
            "text/plain": [
              "<Figure size 1000x600 with 1 Axes>"
            ]
          },
          "metadata": {},
          "output_type": "display_data"
        }
      ],
      "source": [
        "# En el caso del análisis de la transformación a energías renovables en Nueva Zelandia por políticas de promoción podemos utilizar el concepto DAFO de la siguiente manera\n",
        "# Así, las Fortalezas pertinentes al caso se pueden determinar cuantitativamente con las siguientes variables: \n",
        "# promoción de la innovación = F1\n",
        "# Valor del conjunto de ventajas reconocido = F2\n",
        "# Relaciones con las compañías proveedoras = F3\n",
        "\n",
        "# Las Debilidades se pueden determinar cuantitativamente así: \n",
        "# experiencia del equipo experto = D1\n",
        "# costos de producción = D2\n",
        "# calidad de productos = D3\n",
        "\n",
        "# Las Oportunidades pertinentes se pueden determinar cuantitativamente del siguiente modo: \n",
        "# Crecimiento del mercado = O1\n",
        "# Tendencia hacia productos ecológicos = O2\n",
        "# Expansión internacional = O3\n",
        "\n",
        "# Las Amenazas se pueden determinar cuantitativamente de la siguiente manera: \n",
        "# Grado de competencia = A1\n",
        "# Tendencia al apoyo de a cambios en regulaciones gubernamentales = A2\n",
        "# Tendencia al cambio de preferencias de los consumidores = A3\n",
        "\n",
        "# Cualquiera de estos números Fi, Di, Oi y Ai es relativo al criterio del analista o la comunidad afectada pudiendo tomar un espectro creciente de grados (poco, medianamente, mucho) letras (A, B o C) o dígitos (1,2,3,4,5 o 10 al 100 o del 1 al 10).\n",
        "data = { 'Fortalezas': ['promoción de la innovación', 'Valor del conjunto de ventajas reconocido', 'Buenas relaciones con las compañías proveedoras'],\n",
        "    'Debilidades': ['poca experiencia del equipo experto', 'Altos costos de producción', 'calidad de productos no probada'],\n",
        "    'Oportunidades': ['Crecimiento del mercado', 'Tendencia hacia productos ecológicos', 'Expansión internacional'],\n",
        "    'Amenazas': ['Competencia fuerte', 'Resistenia a cambios en regulaciones gubernamentales', 'Cambio de preferencias de los consumidores']\n",
        "\n",
        "    \n",
        "}\n",
        "\n",
        "df = pd.DataFrame(data, index=['F1', 'F2', 'F3'])\n",
        "print(df)\n",
        "\n",
        "plt.figure(figsize=(10, 6))\n",
        "plt.imshow([[0, 1], [1, 0]], cmap='Greys', aspect='auto')\n",
        "plt.axis('off')\n",
        "\n",
        "rows, cols = df.shape\n",
        "for i in range(rows):\n",
        "    for j in range(cols):\n",
        "        plt.text(j, i, df.iloc[i, j], ha='center', va='center', color='black')\n",
        "\n",
        "plt.title('Matriz FODA')\n",
        "plt.show()\n"
      ]
    }
  ]
}